{
 "cells": [
  {
   "cell_type": "markdown",
   "metadata": {},
   "source": [
    "# _Flowing with JAX_\n",
    "\n",
    "# Part 2: Real NVP\n",
    "\n",
    "2020, [@glouppe](https://twitter.com/glouppe).\n",
    "\n",
    "In this second notebook, we will use JAX to compose real NVP transformations (changes of variables parameterized by neural networks) into our very first normalizing flow.\n",
    "\n",
    "# Preamble"
   ]
  },
  {
   "cell_type": "code",
   "execution_count": 1,
   "metadata": {},
   "outputs": [],
   "source": [
    "import os\n",
    "os.environ[\"XLA_FLAGS\"] = \"--xla_gpu_cuda_data_dir=/home/glouppe/anaconda3/envs/jax\"\n",
    "\n",
    "import jax.numpy as np \n",
    "from jax import grad, jacfwd, jit, random, vmap\n",
    "from jax.scipy.stats import multivariate_normal\n",
    "rng = random.PRNGKey(0)\n",
    "\n",
    "from IPython.display import clear_output\n",
    "import matplotlib.pyplot as plt\n",
    "import numpy as true_np"
   ]
  },
  {
   "cell_type": "markdown",
   "metadata": {},
   "source": [
    "# Data\n",
    "\n",
    "Our goal will be to learn a density estimator for the following synthetic 2D data $\\mathbf{x}$:"
   ]
  },
  {
   "cell_type": "code",
   "execution_count": 2,
   "metadata": {},
   "outputs": [
    {
     "data": {
      "image/png": "[encoded data removed]",
      "text/plain": [
       "<Figure size 288x288 with 1 Axes>"
      ]
     },
     "metadata": {
      "needs_background": "light"
     },
     "output_type": "display_data"
    }
   ],
   "source": [
    "from toy_data import inf_train_gen\n",
    "x = inf_train_gen(data=\"pinwheel\", batch_size=10000)\n",
    "D = x.shape[-1]\n",
    "d = D // 2\n",
    "\n",
    "plt.figure(figsize=(4, 4))\n",
    "plt.hist2d(x[:, 0], x[:, 1], bins=30, range=[(-4, 4), (-4, 4)], density=True)\n",
    "plt.title(\"x ~ p(x)\")\n",
    "plt.show()"
   ]
  },
  {
   "cell_type": "markdown",
   "metadata": {},
   "source": [
    "# Real NVP\n",
    "\n",
    "Introduced by Dinh et al (2016, [arXiv:1605.08803](https://arxiv.org/abs/1605.08803)), real-valued non-volume preserving (real NVP) transformations are defined as:\n",
    "\n",
    "$$\n",
    "\\begin{align}\n",
    "& \\mathbf{z}_{1:d} = \\mathbf{x}_{1:d}\\\\\n",
    "& \\mathbf{z}_{d+1:D} = \\mathbf{x}_{d+1:D} \\odot \\exp(s(\\mathbf{x}_{1:d})) + t(\\mathbf{x}_{1:d})\n",
    "\\end{align}$$\n",
    "\n",
    "In JAX, these can be implemented as follows, where `s` and `t` are neural network functions (as returned by `jax.experimental.stax.serial`) and `s_params` and `t_params` are their parameters:"
   ]
  },
  {
   "cell_type": "code",
   "execution_count": 3,
   "metadata": {},
   "outputs": [],
   "source": [
    "def realnvp(x, s, s_params, t, t_params):\n",
    "    x1, x2 = x[:d], x[d:]\n",
    "    sx1 = s(s_params, x1)\n",
    "    tx1 = t(t_params, x1)\n",
    "    z1, z2 = x1, x2 * np.exp(sx1) + tx1\n",
    "    z = np.concatenate([z1, z2], axis=-1)\n",
    "    return z\n",
    "\n",
    "def realnvp_inv(z, s, s_params, t, t_params): \n",
    "    z1, z2 = z[:d], z[d:]\n",
    "    x1 = z1\n",
    "    sx1 = s(s_params, x1)\n",
    "    tx1 = t(t_params, x1)  \n",
    "    x2 = (z2 - tx1) * np.exp(-sx1)\n",
    "    x = np.concatenate([x1, x2], axis=-1)\n",
    "    return x"
   ]
  },
  {
   "cell_type": "markdown",
   "metadata": {},
   "source": [
    "As in Part 1, we will make use of JAX's API to vectorize the real NVP transformation and automatically derive its Jacobian, which we will then later plug into change of variables formula."
   ]
  },
  {
   "cell_type": "code",
   "execution_count": 4,
   "metadata": {},
   "outputs": [],
   "source": [
    "v_realnvp = vmap(realnvp, (0, None, None, None, None))\n",
    "v_realnvp_inv = vmap(realnvp_inv, (0, None, None, None, None))\n",
    "J_realnvp = jacfwd(realnvp)\n",
    "v_J_realnvp = vmap(J_realnvp, (0, None, None, None, None))\n",
    "vdet = vmap(np.linalg.det)"
   ]
  },
  {
   "cell_type": "markdown",
   "metadata": {},
   "source": [
    "Note that because of the structure of the real NVP transformation, we could instead easily compute the Jacobian determinant as $\\text{diag}(\\exp(s(\\mathbf{x}_{1:d})))$, which would be much more efficient. However, since we are dealing with 2D data, the computational overhead of generically using `jacfwd` and `np.linalg.det` is not really that much of an issue.\n",
    "\n",
    "Now that we have defined a single transformation, our next step is to define a sequence $g$ of transformations as $g = g_N \\circ g_{N-1} \\circ \\dots \\circ g_1$. In our case, we will be chaining real NVP transformations into a normalizing flow:"
   ]
  },
  {
   "cell_type": "code",
   "execution_count": 5,
   "metadata": {},
   "outputs": [],
   "source": [
    "from jax.experimental.stax import serial, Dense, Relu\n",
    "\n",
    "def nf_init(n_steps):\n",
    "    nf_nn, nf_params = [], []\n",
    "    \n",
    "    for i in range(n_steps):\n",
    "        s_init, s = serial(Dense(1024), Relu, Dense(1024), Relu, Dense(1))\n",
    "        _, s_params = s_init(rng, (d,))\n",
    "        \n",
    "        t_init, t = serial(Dense(1024), Relu, Dense(1024), Relu, Dense(1))\n",
    "        _, t_params = t_init(rng, (d,))\n",
    "    \n",
    "        nf_nn.append((s, t))\n",
    "        nf_params.append((s_params, t_params))\n",
    "        \n",
    "    return nf_nn, nf_params \n",
    "\n",
    "def nf_forward(x, nf_nn, nf_params, forward=v_realnvp, return_jacobians=False):\n",
    "    z = x\n",
    "    jacobians = []\n",
    "    \n",
    "    for i, ((s, t), (s_params, t_params)) in enumerate(zip(nf_nn, nf_params)):\n",
    "        if i % 2 == 0:\n",
    "            z = z[:, ::-1]\n",
    "            \n",
    "        if return_jacobians:\n",
    "            J = v_J_realnvp(z, s, s_params, t, t_params)\n",
    "            jacobians.append(J)\n",
    "        \n",
    "        z = forward(z, s, s_params, t, t_params)\n",
    "        \n",
    "    if return_jacobians:\n",
    "        return z, jacobians\n",
    "    else:\n",
    "        return z\n",
    "\n",
    "def nf_backward(z, nf_nn, nf_params, backward=v_realnvp_inv):\n",
    "    x = z\n",
    "    \n",
    "    nf_nn = nf_nn[::-1]\n",
    "    nf_params = nf_params[::-1]\n",
    "    \n",
    "    for i, ((s, t), (s_params, t_params)) in enumerate(zip(nf_nn, nf_params)):\n",
    "        x = backward(x, s, s_params, t, t_params)\n",
    "        \n",
    "        if (len(nf_params) - i - 1) % 2 == 0:\n",
    "            x = x[:, ::-1]\n",
    "            \n",
    "    return x\n",
    "\n",
    "# Initialize a normalizing flow made of 5 real NVP transformations\n",
    "nf_nn, nf_params = nf_init(10)"
   ]
  },
  {
   "cell_type": "markdown",
   "metadata": {},
   "source": [
    "From the change of variables theorem, the log-likelihood of the data $\\mathbf{x}$ is expressed in sequence as\n",
    "\n",
    "$$\\log p(\\mathbf{x}) = \\log p(g(\\mathbf{x})) + \\sum_{i=1}^N \\log |\\det J_{g_i(\\mathbf{x}^{(i-1)})}|$$\n",
    "\n",
    "where $\\mathbf{x}^{(i-1)} = (g_{i-1} \\circ ... \\circ g_1)(\\mathbf{x})$ and $\\mathbf{x}^{(0)}=\\mathbf{x}$.\n"
   ]
  },
  {
   "cell_type": "code",
   "execution_count": 6,
   "metadata": {},
   "outputs": [],
   "source": [
    "def loss(params, batch):\n",
    "    z, jacobians = nf_forward(batch, nf_nn, params, return_jacobians=True)\n",
    "    return -np.mean(multivariate_normal.logpdf(z, mean=np.zeros(D), cov=np.eye(D)) + \n",
    "                    sum([np.log(np.abs(vdet(J))) for J in jacobians]))"
   ]
  },
  {
   "cell_type": "markdown",
   "metadata": {},
   "source": [
    "Instead of implementing our own optimizer as in Part 1, we now use the `jax.experimental.optimizers` API and train our normalizing flow with Adam:"
   ]
  },
  {
   "cell_type": "code",
   "execution_count": 7,
   "metadata": {},
   "outputs": [
    {
     "data": {
      "image/png": "[encoded data removed]",
      "text/plain": [
       "<Figure size 288x288 with 1 Axes>"
      ]
     },
     "metadata": {
      "needs_background": "light"
     },
     "output_type": "display_data"
    }
   ],
   "source": [
    "from jax.experimental.optimizers import adam\n",
    "\n",
    "opt_init, opt_update, get_params = adam(step_size=1e-4)\n",
    "grad_loss = grad(loss, 0)\n",
    "\n",
    "@jit\n",
    "def step(i, opt_state, batch):\n",
    "    params = get_params(opt_state)\n",
    "    g = grad_loss(params, batch)\n",
    "    return opt_update(i, g, opt_state)\n",
    "\n",
    "iters = 2500\n",
    "data_generator = (x[true_np.random.choice(x.shape[0], 512)] for _ in range(iters))\n",
    "opt_state = opt_init(nf_params)\n",
    "\n",
    "for i in range(iters):\n",
    "    opt_state = step(i, opt_state, next(data_generator))\n",
    "    \n",
    "    # Show progress\n",
    "    if i % 25 == 0:\n",
    "        clear_output(wait=True)\n",
    "        \n",
    "        fig = plt.figure(figsize=(4, 4))\n",
    "        #plt.title(\"iteration = {}, loss = {}\".format(i, loss(get_params(opt_state), x)))\n",
    "        \n",
    "        plt.hist2d(x[:, 0], x[:, 1], bins=50, range=[(-4, 4), (-4, 4)], density=True)\n",
    "        plt.xlim(-4, 4)\n",
    "        plt.ylim(-4, 4)    \n",
    "    \n",
    "        _x = np.arange(-4.0, 4.0, 0.1)\n",
    "        _y = np.arange(-4.0, 4.0, 0.1)\n",
    "        X, Y = np.meshgrid(_x, _y)\n",
    "        shape = X.shape\n",
    "        batch = np.hstack([X.reshape(-1, 1), Y.reshape(-1, 1)])\n",
    "        z, jacobians = nf_forward(batch, nf_nn, get_params(opt_state), return_jacobians=True)\n",
    "        Z = np.exp(multivariate_normal.logpdf(z, mean=np.zeros(D), cov=np.eye(D)) + \\\n",
    "                   sum([np.log(np.abs(vdet(J))) for J in jacobians]))\n",
    "        Z = Z.reshape(shape)\n",
    "        CS = plt.contour(X, Y, Z, levels=10)\n",
    "        \n",
    "        plt.show()"
   ]
  },
  {
   "cell_type": "markdown",
   "metadata": {},
   "source": [
    "# Sampling\n",
    "\n",
    "Normalizing flows are not only good for density estimation, they can also be used to generate new samples:"
   ]
  },
  {
   "cell_type": "code",
   "execution_count": 9,
   "metadata": {},
   "outputs": [
    {
     "data": {
      "image/png": "[encoded data removed]",
      "text/plain": [
       "<Figure size 288x288 with 1 Axes>"
      ]
     },
     "metadata": {
      "needs_background": "light"
     },
     "output_type": "display_data"
    }
   ],
   "source": [
    "nf_params = get_params(opt_state)\n",
    "\n",
    "z = random.normal(rng, (10000, 2))\n",
    "x_fake = nf_backward(z, nf_nn, nf_params)\n",
    "\n",
    "plt.figure(figsize=(4, 4))\n",
    "plt.hist2d(x_fake[:, 0], x_fake[:, 1], bins=50, range=[(-4, 4), (-4, 4)], density=True)\n",
    "plt.xlim(-4, 4)\n",
    "plt.ylim(-4, 4)    \n",
    "plt.show()"
   ]
  },
  {
   "cell_type": "markdown",
   "metadata": {},
   "source": [
    "Overall, results are not bad, but also quite far for from being perfect. Stay tuned for Part 3, in which we will re-implement a better normalizing flow!"
   ]
  }
 ],
 "metadata": {
  "kernelspec": {
   "display_name": "Python [conda env:jax]",
   "language": "python",
   "name": "conda-env-jax-py"
  },
  "language_info": {
   "codemirror_mode": {
    "name": "ipython",
    "version": 3
   },
   "file_extension": ".py",
   "mimetype": "text/x-python",
   "name": "python",
   "nbconvert_exporter": "python",
   "pygments_lexer": "ipython3",
   "version": "3.7.9"
  }
 },
 "nbformat": 4,
 "nbformat_minor": 4
}
