{
 "cells": [
  {
   "cell_type": "markdown",
   "metadata": {},
   "source": [
    "# Flowing with JAX (Part 1)\n",
    "\n",
    "2020, [@glouppe](https://twitter.com/glouppe)."
   ]
  },
  {
   "cell_type": "code",
   "execution_count": 1,
   "metadata": {},
   "outputs": [],
   "source": [
    "import os\n",
    "os.environ[\"XLA_FLAGS\"] = \"--xla_gpu_cuda_data_dir=/home/glouppe/anaconda3/envs/jax\"\n",
    "\n",
    "from IPython.display import clear_output\n",
    "import matplotlib.pyplot as plt"
   ]
  },
  {
   "cell_type": "code",
   "execution_count": 2,
   "metadata": {},
   "outputs": [],
   "source": [
    "import jax.numpy as np \n",
    "from jax import grad, jacfwd, random, vmap\n",
    "from jax.scipy.stats import multivariate_normal\n",
    "rng = random.PRNGKey(0)"
   ]
  },
  {
   "cell_type": "markdown",
   "metadata": {},
   "source": [
    "# Affine transformation\n",
    "\n",
    "Let us start with a good old Normal variable $\\mathbf{z} \\sim \\mathcal{N}(\\mu=0, \\Sigma=\\mathbb{1})$."
   ]
  },
  {
   "cell_type": "code",
   "execution_count": 3,
   "metadata": {},
   "outputs": [],
   "source": [
    "z = random.normal(rng, (2,))"
   ]
  },
  {
   "cell_type": "markdown",
   "metadata": {},
   "source": [
    "We define $\\mathbf{x}$ as the affine transformation $\\mathbf{x} = g^{-1}(\\mathbf{z}) = A \\mathbf{z} + \\mathbf{b}$. The transformation is invertible and we have $\\mathbf{z} = g(\\mathbf{x}) = A^{-1} (\\mathbf{x} - \\mathbf{b})$."
   ]
  },
  {
   "cell_type": "code",
   "execution_count": 4,
   "metadata": {},
   "outputs": [],
   "source": [
    "# x = g_inv(z) = Az + b\n",
    "A = np.array([[0.75, -0.3],  \n",
    "              [-0.7, 1.25]])\n",
    "b = np.array([1.0, 0.5])\n",
    "\n",
    "def g_inv(z, A=A, b=b):\n",
    "    return A @ z + b\n",
    "\n",
    "# z = g(x) = A^-1 (x - b)\n",
    "A_inv = np.linalg.inv(A)\n",
    "\n",
    "def g(x, A_inv=A_inv, b=b):\n",
    "    return A_inv @ (x - b)"
   ]
  },
  {
   "cell_type": "code",
   "execution_count": 5,
   "metadata": {},
   "outputs": [
    {
     "name": "stdout",
     "output_type": "stream",
     "text": [
      "z = [-0.78476596  0.85644484]\n",
      "x = g_inv(z) = [0.15449208 2.1198921 ]\n",
      "z_rec = g(x) = [-0.78476596  0.8564448 ]\n"
     ]
    }
   ],
   "source": [
    "print(\"z =\", z)\n",
    "x = g_inv(z)\n",
    "print(\"x = g_inv(z) =\", x)\n",
    "z_rec = g(x)\n",
    "print(\"z_rec = g(x) =\", z_rec)"
   ]
  },
  {
   "cell_type": "markdown",
   "metadata": {},
   "source": [
    "The transformation and its inverse are defined on a per-sample level, but can be easily vectorized using JAX's `vmap`:"
   ]
  },
  {
   "cell_type": "code",
   "execution_count": 6,
   "metadata": {},
   "outputs": [],
   "source": [
    "vg_inv = vmap(g_inv)\n",
    "vg = vmap(g)"
   ]
  },
  {
   "cell_type": "code",
   "execution_count": 7,
   "metadata": {},
   "outputs": [
    {
     "data": {
      "image/png": "[encoded data removed]",
      "text/plain": [
       "<Figure size 864x288 with 3 Axes>"
      ]
     },
     "metadata": {
      "needs_background": "light"
     },
     "output_type": "display_data"
    }
   ],
   "source": [
    "z = random.normal(rng, (10000, 2))\n",
    "\n",
    "x = vg_inv(z)\n",
    "z_rec = vg(x)\n",
    "\n",
    "fig, (ax1, ax2, ax3) = plt.subplots(1, 3, figsize=(12, 4))\n",
    "ax1.hist2d(z[:, 0], z[:, 1], bins=50, range=[(-5,5), (-5,5)], density=True)\n",
    "ax1.set_xlim(-5, 5)\n",
    "ax1.set_ylim(-5, 5)\n",
    "ax1.set_title(\"z ~ p(z)\")\n",
    "\n",
    "ax2.hist2d(x[:, 0], x[:, 1], bins=50, range=[(-5,5), (-5,5)], density=True)\n",
    "ax2.set_xlim(-5, 5)\n",
    "ax2.set_ylim(-5, 5)\n",
    "ax2.set_title(\"x = g^-1(z)\")\n",
    "\n",
    "ax3.hist2d(z_rec[:, 0], z_rec[:, 1], bins=50, range=[(-5,5), (-5,5)], density=True)\n",
    "ax3.set_xlim(-5, 5)\n",
    "ax3.set_ylim(-5, 5)\n",
    "ax3.set_title(\"z = g(x) [reconstructed]\")\n",
    "\n",
    "plt.show()"
   ]
  },
  {
   "cell_type": "markdown",
   "metadata": {},
   "source": [
    "The original $\\mathbf{z}$ values are properly reconstructed from $\\mathbf{x}$. So far so good!"
   ]
  },
  {
   "cell_type": "markdown",
   "metadata": {},
   "source": [
    "# Change of variables theorem"
   ]
  },
  {
   "cell_type": "markdown",
   "metadata": {},
   "source": [
    "For $\\mathbf{x} = g^{-1}(\\mathbf{z})$ with $\\mathbf{z} \\sim p(\\mathbf{z})$, we have\n",
    "$$p(\\mathbf{x}) = p(g(\\mathbf{x})) \\left| \\text{det} J_{g(\\mathbf{x})} \\right|,$$\n",
    "where the Jacobian $J_{g(\\mathbf{x})} = \\frac{\\partial g(\\mathbf{x})}{\\partial \\mathbf{x}}$."
   ]
  },
  {
   "cell_type": "code",
   "execution_count": 8,
   "metadata": {},
   "outputs": [
    {
     "name": "stdout",
     "output_type": "stream",
     "text": [
      "log p(z) = -2.5125546\n",
      "log p(x) = -2.1944134\n"
     ]
    }
   ],
   "source": [
    "z = random.normal(rng, (2,))\n",
    "x = g_inv(z)\n",
    "\n",
    "mu_z = np.zeros(2)\n",
    "cov_z = np.eye(2)\n",
    "\n",
    "print(\"log p(z) =\", multivariate_normal.logpdf(z, mean=mu_z, cov=cov_z))\n",
    "\n",
    "J = jacfwd(g)\n",
    "print(\"log p(x) =\", multivariate_normal.logpdf(g(x), mean=mu_z, cov=cov_z) + \n",
    "                    np.log(np.abs(np.linalg.det(J(x)))))"
   ]
  },
  {
   "cell_type": "markdown",
   "metadata": {},
   "source": [
    "Since we consider an affine transformation of the normal $\\mathbf{z} \\sim \\mathcal{N}(\\mu=0, \\Sigma=\\mathbb{1})$, we also know that $p(\\mathbf{x}) = \\mathcal{N}(g^{-1}(\\mu), A \\Sigma A^T)).$"
   ]
  },
  {
   "cell_type": "code",
   "execution_count": 9,
   "metadata": {},
   "outputs": [
    {
     "name": "stdout",
     "output_type": "stream",
     "text": [
      "log p(x) = -2.1944134\n"
     ]
    }
   ],
   "source": [
    "print(\"log p(x) =\", multivariate_normal.logpdf(x, mean=g_inv(mu_z), cov=A @ cov_z @ A.T))"
   ]
  },
  {
   "cell_type": "markdown",
   "metadata": {},
   "source": [
    "Hence, our expression for the density based on the change of variables theorem seems to hold!"
   ]
  },
  {
   "cell_type": "markdown",
   "metadata": {},
   "source": [
    "Again, we can use `vmap` to vectorize the evaluation of the density for batches of samples:"
   ]
  },
  {
   "cell_type": "code",
   "execution_count": 10,
   "metadata": {},
   "outputs": [
    {
     "name": "stdout",
     "output_type": "stream",
     "text": [
      "log p(x) = [-1.623878  -1.8078455 -1.6282433 -1.9196538 -1.948336 ]\n",
      "log p(x) = [-1.6238781 -1.8078456 -1.6282433 -1.9196539 -1.9483361]\n"
     ]
    }
   ],
   "source": [
    "vJ = vmap(J)\n",
    "vdet = vmap(np.linalg.det)\n",
    "\n",
    "z = random.normal(rng, (5, 2))\n",
    "x = vg_inv(z)\n",
    "\n",
    "print(\"log p(x) =\", multivariate_normal.logpdf(vg(x), mean=np.zeros(2), cov=np.eye(2)) + \n",
    "                    np.log(np.abs(vdet(vJ(x)))))\n",
    "print(\"log p(x) =\", multivariate_normal.logpdf(x, mean=g_inv(mu_z), cov=A @ cov_z @ A.T))"
   ]
  },
  {
   "cell_type": "markdown",
   "metadata": {},
   "source": [
    "# Parameter estimation\n",
    "\n",
    "Given observations $\\mathbf{x}$ and assuming the affine transformation $\\mathbf{z} = g(\\mathbf{x}) = A^{-1} (\\mathbf{x} - \\mathbf{b})$, the parameters $A^{-1}$ and $\\mathbf{b}$ can be estimated by maximizing the likelihood $p(\\mathbf{x} | A^{-1}, \\mathbf{b})$.\n",
    "\n",
    "Let us start with some training data $\\mathbf{x} \\sim p(\\mathbf{x})$."
   ]
  },
  {
   "cell_type": "code",
   "execution_count": 11,
   "metadata": {},
   "outputs": [],
   "source": [
    "z_train = random.normal(rng, (10000, 2))\n",
    "x_train = vg_inv(z_train)"
   ]
  },
  {
   "cell_type": "markdown",
   "metadata": {},
   "source": [
    "Then we define $-\\log p(\\mathbf{x} | A^-1, \\mathbf{b})$ as our loss function, which we express using the change of variables theorem."
   ]
  },
  {
   "cell_type": "code",
   "execution_count": 12,
   "metadata": {},
   "outputs": [],
   "source": [
    "def g(x, A_inv, b):             # xxx: must redefine those, since vmap does not support kw args :(\n",
    "    return A_inv @ (x - b)\n",
    "\n",
    "vg = vmap(g, (0, None, None))\n",
    "J = jacfwd(g)\n",
    "vJ = vmap(J, (0, None, None))\n",
    "vdet = vmap(np.linalg.det)\n",
    "\n",
    "def loss(A_inv, b, batch):\n",
    "    return -np.mean(multivariate_normal.logpdf(vg(batch, A_inv, b), \n",
    "                                               mean=np.zeros(2), \n",
    "                                               cov=np.eye(2)) + \n",
    "                    np.log(np.abs(vdet(vJ(batch, A_inv, b)))))"
   ]
  },
  {
   "cell_type": "markdown",
   "metadata": {},
   "source": [
    "Since JAX supports automatic differentiation, we can readily obtain its gradient with respect to 1st ($A^{-1}$) and 2nd ($\\mathbf{b}$) argument using `grad`:"
   ]
  },
  {
   "cell_type": "code",
   "execution_count": 13,
   "metadata": {},
   "outputs": [],
   "source": [
    "grad_loss = grad(loss, (0, 1))"
   ]
  },
  {
   "cell_type": "markdown",
   "metadata": {},
   "source": [
    "Hence making it straightfoward estimate $A^{-1}$ and $\\mathbf{b}$ using gradient descent:"
   ]
  },
  {
   "cell_type": "code",
   "execution_count": 14,
   "metadata": {},
   "outputs": [
    {
     "data": {
      "image/png": "[encoded data removed]",
      "text/plain": [
       "<Figure size 288x288 with 1 Axes>"
      ]
     },
     "metadata": {
      "needs_background": "light"
     },
     "output_type": "display_data"
    }
   ],
   "source": [
    "# Gradient descent\n",
    "A_inv_est = np.eye(2) + random.normal(rng, (2, 2)) * 0.01\n",
    "b_est = random.normal(rng, (2,)) * 0.01\n",
    "\n",
    "lr = 0.01\n",
    "\n",
    "for i in range(250):\n",
    "    grad_A_inv, grad_b = grad_loss(A_inv_est, b_est, x_train)\n",
    "    A_inv_est -= lr * grad_A_inv \n",
    "    b_est -= lr * grad_b\n",
    "    \n",
    "    # Show progress\n",
    "    if i % 10 == 0:\n",
    "        clear_output(wait=True)\n",
    "        \n",
    "        plt.figure(figsize=(4, 4))\n",
    "        plt.title(\"iteration = {}, loss = {}\".format(i, loss(A_inv_est, b_est, x_train)))\n",
    "        \n",
    "        plt.hist2d(x_train[:, 0], x_train[:, 1], bins=50, range=[(-5,5), (-5,5)], density=True)\n",
    "        plt.xlim(-5, 5)\n",
    "        plt.ylim(-5, 5)\n",
    "\n",
    "        x = np.arange(-5.0, 5.0, 0.05)\n",
    "        y = np.arange(-5.0, 5.0, 0.05)\n",
    "        X, Y = np.meshgrid(x, y)\n",
    "        shape = X.shape\n",
    "        batch = np.hstack([X.reshape(-1, 1), Y.reshape(-1, 1)])\n",
    "        Z = multivariate_normal.logpdf(vg(batch, A_inv_est, b_est), \n",
    "                                       mean=np.zeros(2), \n",
    "                                       cov=np.eye(2)) + np.log(np.abs(vdet(vJ(batch, A_inv_est, b_est))))\n",
    "        Z = Z.reshape(shape)\n",
    "        CS = plt.contour(X, Y, Z, levels=20)\n",
    "\n",
    "        plt.show()"
   ]
  },
  {
   "cell_type": "markdown",
   "metadata": {},
   "source": [
    "Of course, in this case, fitting the parameters of an affine transformation of a Normal distribution by expressing the data likelihood through the change of variables theorem is clearly an overkill. \n",
    "\n",
    "However, the same recipe holds for any invertible transformation $\\mathbf{z} = g(\\mathbf{x})$. In particular, parameterizing $g$ with an invertible neural network will result in a Normalizing Flow (stay tuned for Part 2!)."
   ]
  }
 ],
 "metadata": {
  "kernelspec": {
   "display_name": "Python [conda env:jax]",
   "language": "python",
   "name": "conda-env-jax-py"
  },
  "language_info": {
   "codemirror_mode": {
    "name": "ipython",
    "version": 3
   },
   "file_extension": ".py",
   "mimetype": "text/x-python",
   "name": "python",
   "nbconvert_exporter": "python",
   "pygments_lexer": "ipython3",
   "version": "3.7.9"
  }
 },
 "nbformat": 4,
 "nbformat_minor": 4
}
